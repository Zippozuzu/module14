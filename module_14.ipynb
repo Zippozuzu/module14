{
 "cells": [
  {
   "cell_type": "code",
   "execution_count": 1,
   "metadata": {},
   "outputs": [],
   "source": [
    "import tensorflow as tf\n",
    "from tensorflow.keras.datasets import imdb\n",
    "from tensorflow.keras.preprocessing.sequence import pad_sequences\n",
    "from keras.models import Sequential\n",
    "from keras.layers import Embedding, SimpleRNN, Dense, GRU, LSTM, Bidirectional\n",
    "from keras import models\n",
    "from keras import layers\n",
    "import matplotlib.pyplot as plt"
   ]
  },
  {
   "cell_type": "code",
   "execution_count": 2,
   "metadata": {},
   "outputs": [],
   "source": [
    "max_features = 1000\n",
    "maxlen = 500\n",
    "batch_size = 32\n",
    "\n",
    "(input_train, y_train), (input_test, y_test) = imdb.load_data(num_words=max_features)"
   ]
  },
  {
   "cell_type": "code",
   "execution_count": 3,
   "metadata": {},
   "outputs": [],
   "source": [
    "input_train = pad_sequences(input_train, maxlen=maxlen)\n",
    "input_test = pad_sequences(input_test, maxlen=maxlen)"
   ]
  },
  {
   "cell_type": "code",
   "execution_count": 4,
   "metadata": {},
   "outputs": [],
   "source": [
    "model_RNN = models.Sequential(\n",
    "    [\n",
    "        layers.InputLayer((500,)),\n",
    "        layers.Embedding(max_features, 32),\n",
    "        SimpleRNN(32),\n",
    "        layers.Dense(1, activation='sigmoid')\n",
    "    ],\n",
    "    name=\"SimpleRNN\" \n",
    ")\n",
    "\n",
    "model_RNN.compile(optimizer='rmsprop', loss='binary_crossentropy', metrics=['acc'])"
   ]
  },
  {
   "cell_type": "code",
   "execution_count": 8,
   "metadata": {},
   "outputs": [
    {
     "name": "stdout",
     "output_type": "stream",
     "text": [
      "Epoch 1/5\n",
      "\u001b[1m547/547\u001b[0m \u001b[32m━━━━━━━━━━━━━━━━━━━━\u001b[0m\u001b[37m\u001b[0m \u001b[1m22s\u001b[0m 40ms/step - acc: 0.5556 - loss: 0.6758 - val_acc: 0.6688 - val_loss: 0.5930\n",
      "Epoch 2/5\n",
      "\u001b[1m547/547\u001b[0m \u001b[32m━━━━━━━━━━━━━━━━━━━━\u001b[0m\u001b[37m\u001b[0m \u001b[1m22s\u001b[0m 40ms/step - acc: 0.7579 - loss: 0.5113 - val_acc: 0.7935 - val_loss: 0.4733\n",
      "Epoch 3/5\n",
      "\u001b[1m547/547\u001b[0m \u001b[32m━━━━━━━━━━━━━━━━━━━━\u001b[0m\u001b[37m\u001b[0m \u001b[1m22s\u001b[0m 40ms/step - acc: 0.8048 - loss: 0.4402 - val_acc: 0.8173 - val_loss: 0.4354\n",
      "Epoch 4/5\n",
      "\u001b[1m547/547\u001b[0m \u001b[32m━━━━━━━━━━━━━━━━━━━━\u001b[0m\u001b[37m\u001b[0m \u001b[1m22s\u001b[0m 41ms/step - acc: 0.8262 - loss: 0.4083 - val_acc: 0.7172 - val_loss: 0.5876\n",
      "Epoch 5/5\n",
      "\u001b[1m547/547\u001b[0m \u001b[32m━━━━━━━━━━━━━━━━━━━━\u001b[0m\u001b[37m\u001b[0m \u001b[1m22s\u001b[0m 40ms/step - acc: 0.8242 - loss: 0.4015 - val_acc: 0.7852 - val_loss: 0.4637\n"
     ]
    },
    {
     "data": {
      "text/plain": [
       "<keras.src.callbacks.history.History at 0x3556d25a0>"
      ]
     },
     "execution_count": 8,
     "metadata": {},
     "output_type": "execute_result"
    }
   ],
   "source": [
    "model_RNN.fit(input_train, y_train, epochs=5, batch_size=batch_size, validation_split=0.3)"
   ]
  },
  {
   "cell_type": "code",
   "execution_count": 5,
   "metadata": {},
   "outputs": [],
   "source": [
    "model_LSTM = models.Sequential(\n",
    "    [\n",
    "        layers.InputLayer((500,)),\n",
    "        layers.Embedding(max_features, 32),\n",
    "        LSTM(32),\n",
    "        layers.Dense(1, activation='sigmoid')\n",
    "    ],\n",
    "    name=\"LSTM\" \n",
    ")\n",
    "\n",
    "model_LSTM.compile(optimizer='rmsprop', loss='binary_crossentropy', metrics=['acc'])\n"
   ]
  },
  {
   "cell_type": "code",
   "execution_count": 9,
   "metadata": {},
   "outputs": [
    {
     "name": "stdout",
     "output_type": "stream",
     "text": [
      "Epoch 1/5\n",
      "\u001b[1m547/547\u001b[0m \u001b[32m━━━━━━━━━━━━━━━━━━━━\u001b[0m\u001b[37m\u001b[0m \u001b[1m43s\u001b[0m 78ms/step - acc: 0.6347 - loss: 0.6173 - val_acc: 0.8049 - val_loss: 0.4277\n",
      "Epoch 2/5\n",
      "\u001b[1m547/547\u001b[0m \u001b[32m━━━━━━━━━━━━━━━━━━━━\u001b[0m\u001b[37m\u001b[0m \u001b[1m44s\u001b[0m 80ms/step - acc: 0.8110 - loss: 0.4249 - val_acc: 0.7911 - val_loss: 0.4518\n",
      "Epoch 3/5\n",
      "\u001b[1m547/547\u001b[0m \u001b[32m━━━━━━━━━━━━━━━━━━━━\u001b[0m\u001b[37m\u001b[0m \u001b[1m43s\u001b[0m 79ms/step - acc: 0.8287 - loss: 0.3975 - val_acc: 0.8428 - val_loss: 0.3672\n",
      "Epoch 4/5\n",
      "\u001b[1m547/547\u001b[0m \u001b[32m━━━━━━━━━━━━━━━━━━━━\u001b[0m\u001b[37m\u001b[0m \u001b[1m44s\u001b[0m 80ms/step - acc: 0.8495 - loss: 0.3519 - val_acc: 0.8292 - val_loss: 0.3774\n",
      "Epoch 5/5\n",
      "\u001b[1m547/547\u001b[0m \u001b[32m━━━━━━━━━━━━━━━━━━━━\u001b[0m\u001b[37m\u001b[0m \u001b[1m44s\u001b[0m 81ms/step - acc: 0.8558 - loss: 0.3430 - val_acc: 0.8551 - val_loss: 0.3654\n"
     ]
    },
    {
     "data": {
      "text/plain": [
       "<keras.src.callbacks.history.History at 0x321742d20>"
      ]
     },
     "execution_count": 9,
     "metadata": {},
     "output_type": "execute_result"
    }
   ],
   "source": [
    "model_LSTM.fit(input_train, y_train, epochs=5, batch_size=batch_size, validation_split=0.3)"
   ]
  },
  {
   "cell_type": "code",
   "execution_count": 6,
   "metadata": {},
   "outputs": [],
   "source": [
    "model_deep = models.Sequential(\n",
    "    [\n",
    "        layers.InputLayer((500,)),\n",
    "        layers.Embedding(max_features, 32),\n",
    "        Bidirectional(LSTM(32, return_sequences=True)),\n",
    "        Bidirectional(LSTM(32)),\n",
    "        layers.Dense(1, activation='sigmoid')\n",
    "    ],\n",
    "    name=\"Deep\" \n",
    ")\n",
    "\n",
    "model_deep.compile(optimizer='rmsprop', loss='binary_crossentropy', metrics=['acc'])"
   ]
  },
  {
   "cell_type": "code",
   "execution_count": 7,
   "metadata": {},
   "outputs": [
    {
     "name": "stdout",
     "output_type": "stream",
     "text": [
      "Epoch 1/5\n",
      "\u001b[1m547/547\u001b[0m \u001b[32m━━━━━━━━━━━━━━━━━━━━\u001b[0m\u001b[37m\u001b[0m \u001b[1m151s\u001b[0m 273ms/step - acc: 0.6181 - loss: 0.6330 - val_acc: 0.8381 - val_loss: 0.3871\n",
      "Epoch 2/5\n",
      "\u001b[1m547/547\u001b[0m \u001b[32m━━━━━━━━━━━━━━━━━━━━\u001b[0m\u001b[37m\u001b[0m \u001b[1m158s\u001b[0m 290ms/step - acc: 0.8057 - loss: 0.4312 - val_acc: 0.8196 - val_loss: 0.3992\n",
      "Epoch 3/5\n",
      "\u001b[1m547/547\u001b[0m \u001b[32m━━━━━━━━━━━━━━━━━━━━\u001b[0m\u001b[37m\u001b[0m \u001b[1m158s\u001b[0m 288ms/step - acc: 0.8370 - loss: 0.3872 - val_acc: 0.8069 - val_loss: 0.4207\n",
      "Epoch 4/5\n",
      "\u001b[1m547/547\u001b[0m \u001b[32m━━━━━━━━━━━━━━━━━━━━\u001b[0m\u001b[37m\u001b[0m \u001b[1m158s\u001b[0m 288ms/step - acc: 0.8520 - loss: 0.3554 - val_acc: 0.8300 - val_loss: 0.3882\n",
      "Epoch 5/5\n",
      "\u001b[1m547/547\u001b[0m \u001b[32m━━━━━━━━━━━━━━━━━━━━\u001b[0m\u001b[37m\u001b[0m \u001b[1m159s\u001b[0m 291ms/step - acc: 0.8619 - loss: 0.3354 - val_acc: 0.8511 - val_loss: 0.3536\n"
     ]
    },
    {
     "data": {
      "text/plain": [
       "<keras.src.callbacks.history.History at 0x3193c36b0>"
      ]
     },
     "execution_count": 7,
     "metadata": {},
     "output_type": "execute_result"
    }
   ],
   "source": [
    "model_deep.fit(input_train, y_train, epochs=5, batch_size=batch_size, validation_split=0.3)"
   ]
  },
  {
   "cell_type": "code",
   "execution_count": 10,
   "metadata": {},
   "outputs": [
    {
     "name": "stdout",
     "output_type": "stream",
     "text": [
      "\u001b[1m782/782\u001b[0m \u001b[32m━━━━━━━━━━━━━━━━━━━━\u001b[0m\u001b[37m\u001b[0m \u001b[1m6s\u001b[0m 8ms/step\n",
      "\u001b[1m782/782\u001b[0m \u001b[32m━━━━━━━━━━━━━━━━━━━━\u001b[0m\u001b[37m\u001b[0m \u001b[1m6s\u001b[0m 8ms/step - acc: 0.7875 - loss: 0.4545\n",
      "For SimpleRNN test Loss = 0.4524, test accuracy = 0.7886\n",
      "\u001b[1m782/782\u001b[0m \u001b[32m━━━━━━━━━━━━━━━━━━━━\u001b[0m\u001b[37m\u001b[0m \u001b[1m12s\u001b[0m 16ms/step\n",
      "\u001b[1m782/782\u001b[0m \u001b[32m━━━━━━━━━━━━━━━━━━━━\u001b[0m\u001b[37m\u001b[0m \u001b[1m12s\u001b[0m 15ms/step - acc: 0.8561 - loss: 0.3625\n",
      "For LSTM test Loss = 0.3600, test accuracy = 0.8559\n",
      "\u001b[1m782/782\u001b[0m \u001b[32m━━━━━━━━━━━━━━━━━━━━\u001b[0m\u001b[37m\u001b[0m \u001b[1m38s\u001b[0m 49ms/step\n",
      "\u001b[1m782/782\u001b[0m \u001b[32m━━━━━━━━━━━━━━━━━━━━\u001b[0m\u001b[37m\u001b[0m \u001b[1m39s\u001b[0m 50ms/step - acc: 0.8533 - loss: 0.3479\n",
      "For Deep test Loss = 0.3441, test accuracy = 0.8552\n"
     ]
    }
   ],
   "source": [
    "for mod in [model_RNN, model_LSTM, model_deep]:\n",
    "    predictions = mod.predict(input_test)\n",
    "\n",
    "    # Для отримання зрозумілішого вигляду прогнозів, їх можна перетворити в бінарний формат:\n",
    "    binary_predictions = [1 if pred > 0.5 else 0 for pred in predictions]\n",
    "\n",
    "    # Додатковий крок: Оцінка моделі\n",
    "    # Це дасть загальну точність моделі на тестових даних\n",
    "    test_loss, test_acc = mod.evaluate(input_test, y_test)\n",
    "    print(f'For {mod.name} test Loss = {test_loss:.4f}, test accuracy = {test_acc:.4f}')\n"
   ]
  },
  {
   "cell_type": "markdown",
   "metadata": {},
   "source": [
    "Висновок: SimpleRNN модель показала найгірший результат. Для LSTM та Deep LSTM з Bidirectional результати майже однакові"
   ]
  }
 ],
 "metadata": {
  "kernelspec": {
   "display_name": "base",
   "language": "python",
   "name": "python3"
  },
  "language_info": {
   "codemirror_mode": {
    "name": "ipython",
    "version": 3
   },
   "file_extension": ".py",
   "mimetype": "text/x-python",
   "name": "python",
   "nbconvert_exporter": "python",
   "pygments_lexer": "ipython3",
   "version": "3.12.4"
  }
 },
 "nbformat": 4,
 "nbformat_minor": 2
}
